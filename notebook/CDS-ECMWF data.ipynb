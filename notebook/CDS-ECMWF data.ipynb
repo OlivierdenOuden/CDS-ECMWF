{
 "cells": [
  {
   "cell_type": "markdown",
   "metadata": {},
   "source": [
    "# Climate CDS\n",
    "\n",
    "The ERA5 database is migrated from the ECMWF databases to the CDS databases. Meaning we need to migrate with them, also the reason why the old programm did not gave the wanted results.\n",
    "\n",
    "<hr>\n",
    "Olivier den Ouden (<a href=\"ouden@knmi.nl\">ouden@knmi.nl</a>)<br>\n",
    "R&D Seismology and Acoustics @ KNMI (Royal Netherlands Meteorological Institute)<br>"
   ]
  },
  {
   "cell_type": "markdown",
   "metadata": {},
   "source": [
    "### Install cds - key\n",
    "\n",
    "Since the database migrated, we have to move with them. Meaning we need a new API-key to request the data. Also some software updates and script modifications are needed:\n",
    "\n",
    "1. Create account:\n",
    "https://cds.climate.copernicus.eu/#!/home \n",
    "Since ECMWF migrated the database we need an account for this database, and thus an account.\n",
    "2. Agree licence:\n",
    "https://cds.climate.copernicus.eu/api-how-to \n",
    "Link the account to the licence of agreement.\n",
    "3. Create API:\n",
    "Log in, and recieve the API-key. Store this key in the file $HOME/.cdsapirc (in your Unix/Linux environment). \n"
   ]
  },
  {
   "cell_type": "markdown",
   "metadata": {},
   "source": [
    "## Install cds - API software\n",
    "\n",
    "Besides a new API-key, also a software update is required. To do, run in terminal:\n",
    "\n",
    "<font color=red>pip install cdsapi</font>\n",
    "\n"
   ]
  },
  {
   "cell_type": "markdown",
   "metadata": {},
   "source": [
    "## Download data\n",
    "\n",
    "Now everything is updated and the API-key is stored, we can start changing the original script and get acces to the ECMWF database!\n",
    "\n",
    "### Variables\n",
    "\n",
    "The variables do not change, same names!\n",
    "\n",
    "https://software.ecmwf.int/wiki/display/CKB/ERA5+data+documentation  \n",
    " \n",
    "\n",
    "|Name Parameter|Units|Short name|\n",
    "|--|-------------------------------|\n",
    "|Sea tempreture |K|sst|\n",
    "|Air temperature (2m) |K|2t|\n",
    "|Wind u speed (10m)|m s**-1|10u|\n",
    "|Wind v speed (10m)|m s**-1|10v|\n",
    "|Wind u speed (100m)|m s**-1|100u|\n",
    "|Wind v speed (100m)|m s**-1|100v|\n",
    "|Pressure|Pa|sp|\n",
    "|Humidity|kg kg**-1|q|\n",
    "\n",
    "### Product type\n",
    "\n",
    "There are two types of models we can request; HRES (High RESolution) and EDA (Ensemble Data Assamblation).\n",
    "\n",
    "The difference is in scripts, see below, by the stream and type of data you request:\n",
    "\n",
    "HRES\n",
    "stream = oper (operational)\n",
    "type = an (analysis)\n",
    "\n",
    "EDA\n",
    "stream = enda (ensemble)\n",
    "type = em (ensemble mean)\n",
    "\n",
    "### Temporal resolution\n",
    "\n",
    "The temporal difference between HRES and EDA is:\n",
    "HRES = hourly data\n",
    "EDA = 3hr data\n",
    "\n",
    "### Spatial resolution\n",
    "\n",
    "Also the spatial resolution is different:\n",
    "HRES = 0.3/0.3 degrees\n",
    "EDA = 0.68/0.68 degrees\n"
   ]
  },
  {
   "cell_type": "markdown",
   "metadata": {},
   "source": [
    "## Code\n",
    "\n",
    "I created two scripts for you. \n",
    "\n",
    "The upper script is to download an entire day (hourly) HRES data (sp/2tr/10u/10v).\n",
    "\n",
    "The script below is to download and entire day (3hr resolution) of EDA data."
   ]
  },
  {
   "cell_type": "code",
   "execution_count": 1,
   "metadata": {
    "collapsed": true
   },
   "outputs": [],
   "source": [
    "# Modules to link the software to the API-key\n",
    "import cdsapi\n",
    "c = cdsapi.Client()"
   ]
  },
  {
   "cell_type": "code",
   "execution_count": null,
   "metadata": {},
   "outputs": [
    {
     "name": "stderr",
     "output_type": "stream",
     "text": [
      "2019-01-09 11:22:32,553 INFO Sending request to https://cds.climate.copernicus.eu/api/v2/resources/reanalysis-era5-complete\n",
      "2019-01-09 11:22:32,735 INFO Request is queued\n"
     ]
    }
   ],
   "source": [
    "# HRES data download\n",
    "c.retrieve('reanalysis-era5-single-levels',{\n",
    "        'product_type':     'reanalysis',\n",
    "        'format':           'netcdf',\n",
    "        'variable':[        '10m_u_component_of_wind',\n",
    "                            '10m_v_component_of_wind',\n",
    "                            '2m_temperature',\n",
    "                            'surface_pressure'],\n",
    "        'year':             '2015',\n",
    "        'month':            '01',\n",
    "        'day':              '01',\n",
    "        'time':[            '00:00','01:00','02:00',\n",
    "                            '03:00','04:00','05:00',\n",
    "                            '06:00','07:00','08:00',\n",
    "                            '09:00','10:00','11:00',\n",
    "                            '12:00','13:00','14:00',\n",
    "                            '15:00','16:00','17:00',\n",
    "                            '18:00','19:00','20:00',\n",
    "                            '21:00','22:00','23:00']\n",
    "},'HRES.nc')\n"
   ]
  },
  {
   "cell_type": "code",
   "execution_count": null,
   "metadata": {
    "collapsed": true
   },
   "outputs": [],
   "source": [
    "# EDA data download\n",
    "c.retrieve('reanalysis-era5-single-levels',{\n",
    "        'product_type':     'ensemble_mean',\n",
    "        'format':           'netcdf',\n",
    "        'variable':[        '10m_u_component_of_wind',\n",
    "                            '10m_v_component_of_wind',\n",
    "                            '2m_temperature',\n",
    "                            'surface_pressure'],\n",
    "        'year':             '2015',\n",
    "        'month':            '01',\n",
    "        'day':              '01',\n",
    "        'time':[            '00:00','03:00','06:00',\n",
    "                            '09:00','12:00','15:00',\n",
    "                            '18:00','21:00']\n",
    "},'EDA.nc')\n",
    "\n"
   ]
  }
 ],
 "metadata": {
  "kernelspec": {
   "display_name": "Python 3",
   "language": "python",
   "name": "python3"
  },
  "language_info": {
   "codemirror_mode": {
    "name": "ipython",
    "version": 3
   },
   "file_extension": ".py",
   "mimetype": "text/x-python",
   "name": "python",
   "nbconvert_exporter": "python",
   "pygments_lexer": "ipython3",
   "version": "3.6.2"
  }
 },
 "nbformat": 4,
 "nbformat_minor": 2
}
